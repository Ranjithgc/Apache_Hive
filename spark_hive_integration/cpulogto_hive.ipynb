{
 "cells": [
  {
   "cell_type": "code",
   "execution_count": 1,
   "metadata": {},
   "outputs": [],
   "source": [
    "from pyspark.sql import SparkSession\n",
    "from loghandler import logger\n",
    "try:\n",
    "    appName = \"PySpark MySQL Example - via mysql.connector\"\n",
    "    master = \"local\"\n",
    "    spark = SparkSession.builder.master(master).appName(appName).enableHiveSupport().getOrCreate()\n",
    "except Exception as e:\n",
    "    logger.error(e)"
   ]
  },
  {
   "cell_type": "code",
   "execution_count": 3,
   "metadata": {},
   "outputs": [],
   "source": [
    "df = spark.read.csv(\"hdfs://localhost:9000/csv_files/*.csv\",header=True)\n",
    "df2 = df.select(\"user_name\",\"DateTime\",\"keyboard\",\"mouse\")\n",
    "df2.createOrReplaceTempView('myview')"
   ]
  },
  {
   "cell_type": "code",
   "execution_count": 9,
   "metadata": {},
   "outputs": [
    {
     "name": "stdout",
     "output_type": "stream",
     "text": [
      "+--------------------+-------------------+--------+------+\n",
      "|           user_name|           DateTime|keyboard| mouse|\n",
      "+--------------------+-------------------+--------+------+\n",
      "|  iamnzm@outlook.com|2019-09-19 08:40:02|     1.0|  32.0|\n",
      "|  iamnzm@outlook.com|2019-09-19 08:45:02|     0.0|   0.0|\n",
      "|  iamnzm@outlook.com|2019-09-19 08:50:01|     0.0|   0.0|\n",
      "|  iamnzm@outlook.com|2019-09-19 08:55:01|    11.0| 900.0|\n",
      "|  iamnzm@outlook.com|2019-09-19 09:00:01|     2.0|  25.0|\n",
      "|  iamnzm@outlook.com|2019-09-19 09:05:01|    37.0| 336.0|\n",
      "|deepshukla292@gma...|2019-09-19 09:05:01|     0.0|  55.0|\n",
      "|  iamnzm@outlook.com|2019-09-19 09:10:01|     0.0| 136.0|\n",
      "|deepshukla292@gma...|2019-09-19 09:10:01|     6.0|1112.0|\n",
      "|  iamnzm@outlook.com|2019-09-19 09:15:02|     0.0|  84.0|\n",
      "|deepshukla292@gma...|2019-09-19 09:15:02|     0.0| 357.0|\n",
      "|markfernandes66@g...|2019-09-19 09:15:01|    20.0| 670.0|\n",
      "|markfernandes66@g...|2019-09-19 09:10:01|    17.0|   0.0|\n",
      "|markfernandes66@g...|2019-09-19 09:20:01|    29.0|1895.0|\n",
      "|  iamnzm@outlook.com|2019-09-19 09:20:02|     0.0|  29.0|\n",
      "|deepshukla292@gma...|2019-09-19 09:20:02|    35.0|3022.0|\n",
      "|markfernandes66@g...|2019-09-19 09:25:01|     2.0| 238.0|\n",
      "|  iamnzm@outlook.com|2019-09-19 09:25:01|     0.0|   0.0|\n",
      "|deepshukla292@gma...|2019-09-19 09:25:01|    20.0|1330.0|\n",
      "|markfernandes66@g...|2019-09-19 09:30:01|     5.0|  39.0|\n",
      "+--------------------+-------------------+--------+------+\n",
      "only showing top 20 rows\n",
      "\n"
     ]
    }
   ],
   "source": [
    "df2.show()"
   ]
  },
  {
   "cell_type": "code",
   "execution_count": 8,
   "metadata": {},
   "outputs": [
    {
     "name": "stdout",
     "output_type": "stream",
     "text": [
      "+--------+---------+-----------+\n",
      "|database|tableName|isTemporary|\n",
      "+--------+---------+-----------+\n",
      "|    arun|  cpulogs|      false|\n",
      "|    arun|    test2|      false|\n",
      "|        |   myview|       true|\n",
      "+--------+---------+-----------+\n",
      "\n",
      "+--------------------+-------------------+--------+------+\n",
      "|           user_name|           DateTime|keyboard| mouse|\n",
      "+--------------------+-------------------+--------+------+\n",
      "|  iamnzm@outlook.com|2019-09-19 08:40:02|     1.0|  32.0|\n",
      "|  iamnzm@outlook.com|2019-09-19 08:45:02|     0.0|   0.0|\n",
      "|  iamnzm@outlook.com|2019-09-19 08:50:01|     0.0|   0.0|\n",
      "|  iamnzm@outlook.com|2019-09-19 08:55:01|    11.0| 900.0|\n",
      "|  iamnzm@outlook.com|2019-09-19 09:00:01|     2.0|  25.0|\n",
      "|  iamnzm@outlook.com|2019-09-19 09:05:01|    37.0| 336.0|\n",
      "|deepshukla292@gma...|2019-09-19 09:05:01|     0.0|  55.0|\n",
      "|  iamnzm@outlook.com|2019-09-19 09:10:01|     0.0| 136.0|\n",
      "|deepshukla292@gma...|2019-09-19 09:10:01|     6.0|1112.0|\n",
      "|  iamnzm@outlook.com|2019-09-19 09:15:02|     0.0|  84.0|\n",
      "|deepshukla292@gma...|2019-09-19 09:15:02|     0.0| 357.0|\n",
      "|markfernandes66@g...|2019-09-19 09:15:01|    20.0| 670.0|\n",
      "|markfernandes66@g...|2019-09-19 09:10:01|    17.0|   0.0|\n",
      "|markfernandes66@g...|2019-09-19 09:20:01|    29.0|1895.0|\n",
      "|  iamnzm@outlook.com|2019-09-19 09:20:02|     0.0|  29.0|\n",
      "|deepshukla292@gma...|2019-09-19 09:20:02|    35.0|3022.0|\n",
      "|markfernandes66@g...|2019-09-19 09:25:01|     2.0| 238.0|\n",
      "|  iamnzm@outlook.com|2019-09-19 09:25:01|     0.0|   0.0|\n",
      "|deepshukla292@gma...|2019-09-19 09:25:01|    20.0|1330.0|\n",
      "|markfernandes66@g...|2019-09-19 09:30:01|     5.0|  39.0|\n",
      "+--------------------+-------------------+--------+------+\n",
      "only showing top 20 rows\n",
      "\n"
     ]
    }
   ],
   "source": [
    "try:\n",
    "    # Save df to a new table in Hive\n",
    "    df2.write.mode(\"overwrite\").saveAsTable(\"arun.cpulogs\")\n",
    "    #Show the results using SELECT\n",
    "    dfs = spark.sql(\"use arun\")\n",
    "    dfs1 = spark.sql(\"show tables\")\n",
    "    dfs1.show()\n",
    "    spark.sql(\"create table arun.test2 as select * from myview\")\n",
    "    dfs2 = spark.sql(\"select *from cpulogs\")\n",
    "    dfs2.show()\n",
    "\n",
    "\n",
    "except Exception as e:\n",
    "    logger.error(e)"
   ]
  }
 ],
 "metadata": {
  "interpreter": {
   "hash": "31f2aee4e71d21fbe5cf8b01ff0e069b9275f58929596ceb00d14d90e3e16cd6"
  },
  "kernelspec": {
   "display_name": "Python 3.6.9 64-bit",
   "name": "python3"
  },
  "language_info": {
   "codemirror_mode": {
    "name": "ipython",
    "version": 3
   },
   "file_extension": ".py",
   "mimetype": "text/x-python",
   "name": "python",
   "nbconvert_exporter": "python",
   "pygments_lexer": "ipython3",
   "version": "3.6.9"
  },
  "orig_nbformat": 4
 },
 "nbformat": 4,
 "nbformat_minor": 2
}